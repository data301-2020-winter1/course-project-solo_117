{
 "cells": [
  {
   "cell_type": "code",
   "execution_count": 1,
   "metadata": {},
   "outputs": [],
   "source": [
    "import numpy as np\n",
    "import pandas as pd\n",
    "import seaborn as sns\n",
    "import matplotlib.pyplot as plt\n",
    "import sys, os\n",
    "sys.path.insert(0, os.path.abspath('..'))\n",
    "from scripts import project_functions"
   ]
  },
  {
   "cell_type": "code",
   "execution_count": 2,
   "metadata": {},
   "outputs": [],
   "source": [
    "df = project_functions.load_and_process('FlamesData.csv')"
   ]
  },
  {
   "cell_type": "code",
   "execution_count": 3,
   "metadata": {},
   "outputs": [],
   "source": [
    "total = len(df)\n",
    "df['Intials'] = \"\"\n",
    "for i in range(0,total) :\n",
    "        intial = \"\"\n",
    "        for c in df.iloc[i,0]:\n",
    "            if c.isupper():\n",
    "                intial = intial + c\n",
    "        df.iloc[i,19] = intial"
   ]
  },
  {
   "cell_type": "code",
   "execution_count": 4,
   "metadata": {},
   "outputs": [],
   "source": [
    "df['GoalsPerGame'] = df['G'] / df['GamesPlayed']"
   ]
  },
  {
   "cell_type": "code",
   "execution_count": 19,
   "metadata": {},
   "outputs": [],
   "source": [
    "df['GoalsNorm'] = (df['G']-df['G'].min())/(df['G'].max()-df['G'].min())\n",
    "df['GWGNorm'] = (df['GWG']-df['GWG'].min())/(df['GWG'].max()-df['GWG'].min())\n",
    "df['PIMNorm'] = ((df['PenaltyMins']-df['PenaltyMins'].min())/(df['PenaltyMins'].max()-df['PenaltyMins'].min()))\n",
    "df['PluMinNorm'] = (df['PlusMinus']-df['PlusMinus'].min())/(df['PlusMinus'].max()-df['PlusMinus'].min())\n",
    "df['GPGNorm'] = (df['GoalsPerGame']-df['GoalsPerGame'].min())/(df['GoalsPerGame'].max()-df['GoalsPerGame'].min())"
   ]
  },
  {
   "cell_type": "code",
   "execution_count": 20,
   "metadata": {},
   "outputs": [
    {
     "data": {
      "text/html": [
       "<div>\n",
       "<style scoped>\n",
       "    .dataframe tbody tr th:only-of-type {\n",
       "        vertical-align: middle;\n",
       "    }\n",
       "\n",
       "    .dataframe tbody tr th {\n",
       "        vertical-align: top;\n",
       "    }\n",
       "\n",
       "    .dataframe thead th {\n",
       "        text-align: right;\n",
       "    }\n",
       "</style>\n",
       "<table border=\"1\" class=\"dataframe\">\n",
       "  <thead>\n",
       "    <tr style=\"text-align: right;\">\n",
       "      <th></th>\n",
       "      <th>Player</th>\n",
       "      <th>S/C</th>\n",
       "      <th>Pos</th>\n",
       "      <th>GamesPlayed</th>\n",
       "      <th>G</th>\n",
       "      <th>A</th>\n",
       "      <th>P</th>\n",
       "      <th>PlusMinus</th>\n",
       "      <th>PenaltyMins</th>\n",
       "      <th>P/GP</th>\n",
       "      <th>...</th>\n",
       "      <th>OTG</th>\n",
       "      <th>GWG</th>\n",
       "      <th>Shots</th>\n",
       "      <th>Intials</th>\n",
       "      <th>GoalsPerGame</th>\n",
       "      <th>GoalsNorm</th>\n",
       "      <th>GWGNorm</th>\n",
       "      <th>PIMNorm</th>\n",
       "      <th>PluMinNorm</th>\n",
       "      <th>GPGNorm</th>\n",
       "    </tr>\n",
       "  </thead>\n",
       "  <tbody>\n",
       "    <tr>\n",
       "      <th>203</th>\n",
       "      <td>Jarome Iginla</td>\n",
       "      <td>R</td>\n",
       "      <td>R</td>\n",
       "      <td>1219.0</td>\n",
       "      <td>525.0</td>\n",
       "      <td>570.0</td>\n",
       "      <td>1095.0</td>\n",
       "      <td>46.0</td>\n",
       "      <td>831.0</td>\n",
       "      <td>0.90</td>\n",
       "      <td>...</td>\n",
       "      <td>6.0</td>\n",
       "      <td>83.0</td>\n",
       "      <td>3992.0</td>\n",
       "      <td>JI</td>\n",
       "      <td>0.430681</td>\n",
       "      <td>1.000000</td>\n",
       "      <td>1.000000</td>\n",
       "      <td>0.342248</td>\n",
       "      <td>0.339041</td>\n",
       "      <td>0.766865</td>\n",
       "    </tr>\n",
       "    <tr>\n",
       "      <th>130</th>\n",
       "      <td>Theo Fleury</td>\n",
       "      <td>R</td>\n",
       "      <td>R</td>\n",
       "      <td>791.0</td>\n",
       "      <td>364.0</td>\n",
       "      <td>466.0</td>\n",
       "      <td>830.0</td>\n",
       "      <td>148.0</td>\n",
       "      <td>1339.0</td>\n",
       "      <td>1.05</td>\n",
       "      <td>...</td>\n",
       "      <td>5.0</td>\n",
       "      <td>53.0</td>\n",
       "      <td>2685.0</td>\n",
       "      <td>TF</td>\n",
       "      <td>0.460177</td>\n",
       "      <td>0.692748</td>\n",
       "      <td>0.638554</td>\n",
       "      <td>0.554534</td>\n",
       "      <td>0.688356</td>\n",
       "      <td>0.820528</td>\n",
       "    </tr>\n",
       "    <tr>\n",
       "      <th>330</th>\n",
       "      <td>Joe Nieuwendyk</td>\n",
       "      <td>L</td>\n",
       "      <td>C</td>\n",
       "      <td>577.0</td>\n",
       "      <td>314.0</td>\n",
       "      <td>302.0</td>\n",
       "      <td>616.0</td>\n",
       "      <td>135.0</td>\n",
       "      <td>330.0</td>\n",
       "      <td>1.07</td>\n",
       "      <td>...</td>\n",
       "      <td>3.0</td>\n",
       "      <td>43.0</td>\n",
       "      <td>1549.0</td>\n",
       "      <td>JN</td>\n",
       "      <td>0.544194</td>\n",
       "      <td>0.597328</td>\n",
       "      <td>0.518072</td>\n",
       "      <td>0.132888</td>\n",
       "      <td>0.643836</td>\n",
       "      <td>0.973384</td>\n",
       "    </tr>\n",
       "    <tr>\n",
       "      <th>387</th>\n",
       "      <td>Gary Roberts</td>\n",
       "      <td>L</td>\n",
       "      <td>L</td>\n",
       "      <td>585.0</td>\n",
       "      <td>257.0</td>\n",
       "      <td>248.0</td>\n",
       "      <td>505.0</td>\n",
       "      <td>225.0</td>\n",
       "      <td>1736.0</td>\n",
       "      <td>0.86</td>\n",
       "      <td>...</td>\n",
       "      <td>3.0</td>\n",
       "      <td>27.0</td>\n",
       "      <td>1254.0</td>\n",
       "      <td>GR</td>\n",
       "      <td>0.439316</td>\n",
       "      <td>0.488550</td>\n",
       "      <td>0.325301</td>\n",
       "      <td>0.720435</td>\n",
       "      <td>0.952055</td>\n",
       "      <td>0.782575</td>\n",
       "    </tr>\n",
       "    <tr>\n",
       "      <th>332</th>\n",
       "      <td>Kent Nilsson</td>\n",
       "      <td>L</td>\n",
       "      <td>C</td>\n",
       "      <td>425.0</td>\n",
       "      <td>229.0</td>\n",
       "      <td>333.0</td>\n",
       "      <td>562.0</td>\n",
       "      <td>-34.0</td>\n",
       "      <td>90.0</td>\n",
       "      <td>1.32</td>\n",
       "      <td>...</td>\n",
       "      <td>1.0</td>\n",
       "      <td>25.0</td>\n",
       "      <td>1136.0</td>\n",
       "      <td>KN</td>\n",
       "      <td>0.538824</td>\n",
       "      <td>0.435115</td>\n",
       "      <td>0.301205</td>\n",
       "      <td>0.032595</td>\n",
       "      <td>0.065068</td>\n",
       "      <td>0.963613</td>\n",
       "    </tr>\n",
       "  </tbody>\n",
       "</table>\n",
       "<p>5 rows × 26 columns</p>\n",
       "</div>"
      ],
      "text/plain": [
       "             Player S/C Pos  GamesPlayed      G      A       P  PlusMinus  \\\n",
       "203   Jarome Iginla   R   R       1219.0  525.0  570.0  1095.0       46.0   \n",
       "130     Theo Fleury   R   R        791.0  364.0  466.0   830.0      148.0   \n",
       "330  Joe Nieuwendyk   L   C        577.0  314.0  302.0   616.0      135.0   \n",
       "387    Gary Roberts   L   L        585.0  257.0  248.0   505.0      225.0   \n",
       "332    Kent Nilsson   L   C        425.0  229.0  333.0   562.0      -34.0   \n",
       "\n",
       "     PenaltyMins  P/GP  ...  OTG   GWG   Shots  Intials  GoalsPerGame  \\\n",
       "203        831.0  0.90  ...  6.0  83.0  3992.0       JI      0.430681   \n",
       "130       1339.0  1.05  ...  5.0  53.0  2685.0       TF      0.460177   \n",
       "330        330.0  1.07  ...  3.0  43.0  1549.0       JN      0.544194   \n",
       "387       1736.0  0.86  ...  3.0  27.0  1254.0       GR      0.439316   \n",
       "332         90.0  1.32  ...  1.0  25.0  1136.0       KN      0.538824   \n",
       "\n",
       "     GoalsNorm   GWGNorm   PIMNorm  PluMinNorm   GPGNorm  \n",
       "203   1.000000  1.000000  0.342248    0.339041  0.766865  \n",
       "130   0.692748  0.638554  0.554534    0.688356  0.820528  \n",
       "330   0.597328  0.518072  0.132888    0.643836  0.973384  \n",
       "387   0.488550  0.325301  0.720435    0.952055  0.782575  \n",
       "332   0.435115  0.301205  0.032595    0.065068  0.963613  \n",
       "\n",
       "[5 rows x 26 columns]"
      ]
     },
     "execution_count": 20,
     "metadata": {},
     "output_type": "execute_result"
    }
   ],
   "source": [
    "top20Goal = df.head(20)\n",
    "top20Goal.head()"
   ]
  },
  {
   "cell_type": "code",
   "execution_count": 45,
   "metadata": {},
   "outputs": [
    {
     "data": {
      "text/plain": [
       "1.0"
      ]
     },
     "execution_count": 45,
     "metadata": {},
     "output_type": "execute_result"
    }
   ],
   "source": [
    "top20Goal.iloc[0, 21]"
   ]
  },
  {
   "cell_type": "markdown",
   "metadata": {},
   "source": [
    "# Explanation / Rational\n",
    "In my EDA I was overwhelmed at first by deciding what to investigate and by the size of data I had, but then I reconsidered my research question. My reasearch question is to find how was the best player for the Calgary Flames. This could be interpretted in many ways but I took it to mean which player had the largest positive impact on the team. Breaking this down even further, creating a measure for positive impact on a team can't be boiled down to any one specific attribute, but rather a combination of many. However, the number of goals scored is the most important because games are won by goals, and thats the reason for trimming the player choice down to the top twenty goal scorers. As mentioned, there are some attributes which are more important than others, thus leading to weighting system. Below I will create the weighting system and organise hopefully be able to determine an answer.\n",
    "The categories that will go towards the weighting system will be: \n",
    "1. goals\n",
    "1. game winning goals\n",
    "1. goals per game\n",
    "1. penalty minutes\n",
    "\n",
    "Note, because we will be multiplying these attributes by a weighting factor and aggregating them we will use their nomalised data in order to have have an even comparison."
   ]
  },
  {
   "cell_type": "markdown",
   "metadata": {},
   "source": [
    "## Goals\n",
    "As mentioned above, goals are considered the most important, however we have already isolated the top 20 goal scorers in the team. This means we have already accounted for a bit of the weight for this category so it won't have a strong weight. Also from the graph below we can see that there is not too much variance in the data so the wight for this will be low."
   ]
  },
  {
   "cell_type": "code",
   "execution_count": 7,
   "metadata": {},
   "outputs": [
    {
     "data": {
      "image/png": "[encoded data removed]",
      "text/plain": [
       "<Figure size 432x288 with 1 Axes>"
      ]
     },
     "metadata": {
      "needs_background": "light"
     },
     "output_type": "display_data"
    }
   ],
   "source": [
    "plotT20GG = sns.barplot(x='Intials', y='GoalsNorm', data = top20Goal)"
   ]
  },
  {
   "cell_type": "code",
   "execution_count": 22,
   "metadata": {},
   "outputs": [],
   "source": [
    "GoalWeight = 0.1"
   ]
  },
  {
   "cell_type": "markdown",
   "metadata": {},
   "source": [
    "## Game Winning Goals\n",
    "\n",
    "Game winning goals are essentially a subset of the goals column. The reason they are included in the final analysis is because they are the most impactful goals in any winning game. The data for these demonstrates some higher variability and are important than just goals so they will get a weight a larger weight."
   ]
  },
  {
   "cell_type": "code",
   "execution_count": 10,
   "metadata": {},
   "outputs": [
    {
     "data": {
      "image/png": "[encoded data removed]",
      "text/plain": [
       "<Figure size 432x288 with 1 Axes>"
      ]
     },
     "metadata": {
      "needs_background": "light"
     },
     "output_type": "display_data"
    }
   ],
   "source": [
    "plotT20GGWG = sns.barplot(x='Intials', y='GWGNorm', data = top20Goal)"
   ]
  },
  {
   "cell_type": "code",
   "execution_count": 23,
   "metadata": {},
   "outputs": [],
   "source": [
    "GWGWeight = 0.5"
   ]
  },
  {
   "cell_type": "markdown",
   "metadata": {},
   "source": [
    "## Goals Per Game\n",
    "Goals per game is a metric that shoudld represent the scoring consistency of each player. This is important when we think about positive impact of the player on a game by game level. Some players did not have the same time with the team and thus were not able to accrue as many goals. These types of players can still be very impactful on the team and this metric should demonstrate that. Because goals per game filters out the effect of how many games were played and it demonstrates consistency, it will also receive a larger weighting."
   ]
  },
  {
   "cell_type": "code",
   "execution_count": 12,
   "metadata": {},
   "outputs": [
    {
     "data": {
      "image/png": "[encoded data removed]",
      "text/plain": [
       "<Figure size 432x288 with 1 Axes>"
      ]
     },
     "metadata": {
      "needs_background": "light"
     },
     "output_type": "display_data"
    }
   ],
   "source": [
    "plotT20GGWG = sns.barplot(x='Intials', y='GPGNorm', data = top20Goal)"
   ]
  },
  {
   "cell_type": "code",
   "execution_count": 24,
   "metadata": {},
   "outputs": [],
   "source": [
    "GPGWeight = 0.4"
   ]
  },
  {
   "cell_type": "markdown",
   "metadata": {},
   "source": [
    "## Penalty Minutes\n",
    "The penalty minutes column is a measure of the total amount of time that each player had to serve a penalty, thus putting a strain on the team. Because we see penalies as a bad thing they have been recorded as negative to take away from the overall aggregation. However, using penalty minutes as bad thing is not always true because sometimes fighting can unite the team, demonstrate willingness to win, and provide protection for your fellow teammates. Because this is a more nuanced attribute its weight will be less."
   ]
  },
  {
   "cell_type": "code",
   "execution_count": 21,
   "metadata": {},
   "outputs": [
    {
     "data": {
      "image/png": "[encoded data removed]",
      "text/plain": [
       "<Figure size 432x288 with 1 Axes>"
      ]
     },
     "metadata": {
      "needs_background": "light"
     },
     "output_type": "display_data"
    }
   ],
   "source": [
    "plotT20GPIM = sns.barplot(x='Intials', y='PIMNorm', data = top20Goal)"
   ]
  },
  {
   "cell_type": "code",
   "execution_count": 25,
   "metadata": {},
   "outputs": [],
   "source": [
    "PIMWeight = 0.2"
   ]
  },
  {
   "cell_type": "markdown",
   "metadata": {},
   "source": [
    "## Aggregation\n",
    "Now to create and overall rating column using the formula:\n",
    "\n",
    "rating = (Goals)0.1 + (Game Winning Goals)0.5 + (Goals Per Game)0.4 - (Penalty Minutes)0.2"
   ]
  },
  {
   "cell_type": "code",
   "execution_count": 27,
   "metadata": {},
   "outputs": [],
   "source": [
    "Agg = pd.DataFrame()"
   ]
  },
  {
   "cell_type": "code",
   "execution_count": 38,
   "metadata": {},
   "outputs": [],
   "source": [
    "Agg['Player'] = top20Goal['Player']\n",
    "Agg['Intials'] = top20Goal['Intials']\n",
    "Agg['Rating'] = (top20Goal['GoalsNorm']*0.1)+(top20Goal['GWGNorm']*0.5)+(top20Goal['GPGNorm']*0.4)-(top20Goal['PIMNorm']*0.2)\n",
    "Agg = Agg.sort_values('Rating', ascending = False)"
   ]
  },
  {
   "cell_type": "code",
   "execution_count": 39,
   "metadata": {},
   "outputs": [
    {
     "data": {
      "image/png": "[encoded data removed]",
      "text/plain": [
       "<Figure size 432x288 with 1 Axes>"
      ]
     },
     "metadata": {
      "needs_background": "light"
     },
     "output_type": "display_data"
    }
   ],
   "source": [
    "AggPlot = sns.barplot(x='Intials', y='Rating', data = Agg)"
   ]
  },
  {
   "cell_type": "markdown",
   "metadata": {},
   "source": [
    "## Results\n",
    "Form the plot we can see that the best player to play for the Calgary Flames is Jarome Iginla. This is not surprising he has long thought to be the best and its now confirmed through the above analysis. Below is a breakdown of Jarome Igninlas normalized stats."
   ]
  },
  {
   "cell_type": "code",
   "execution_count": 58,
   "metadata": {},
   "outputs": [],
   "source": [
    "data = [{'Attributes':'GoalsNorm' , 'Values':top20Goal.iloc[0, 21]}, {'Attributes':'GWGNorm' , 'Values':top20Goal.iloc[0, 22]}, {'Attributes':'GPGNorm' , 'Values':top20Goal.iloc[0, 20]} , {'Attributes':'PIMNorm' , 'Values':top20Goal.iloc[0, 24]}]\n",
    "JI = pd.DataFrame(data)"
   ]
  },
  {
   "cell_type": "code",
   "execution_count": 60,
   "metadata": {},
   "outputs": [
    {
     "data": {
      "image/png": "[encoded data removed]",
      "text/plain": [
       "<Figure size 432x288 with 1 Axes>"
      ]
     },
     "metadata": {
      "needs_background": "light"
     },
     "output_type": "display_data"
    }
   ],
   "source": [
    "JIplot = sns.barplot(x='Attributes', y='Values', data = JI)"
   ]
  },
  {
   "cell_type": "markdown",
   "metadata": {},
   "source": [
    "From the graph we can see that Jarome Iginla had the largest amount of goals and game winning goals. We can also see that he was about 40th percentile for goals per game and penalty mins for the top 20 goal scorers on the flames"
   ]
  },
  {
   "cell_type": "code",
   "execution_count": null,
   "metadata": {},
   "outputs": [],
   "source": []
  }
 ],
 "metadata": {
  "kernelspec": {
   "display_name": "Python 3",
   "language": "python",
   "name": "python3"
  },
  "language_info": {
   "codemirror_mode": {
    "name": "ipython",
    "version": 3
   },
   "file_extension": ".py",
   "mimetype": "text/x-python",
   "name": "python",
   "nbconvert_exporter": "python",
   "pygments_lexer": "ipython3",
   "version": "3.8.3"
  }
 },
 "nbformat": 4,
 "nbformat_minor": 4
}
