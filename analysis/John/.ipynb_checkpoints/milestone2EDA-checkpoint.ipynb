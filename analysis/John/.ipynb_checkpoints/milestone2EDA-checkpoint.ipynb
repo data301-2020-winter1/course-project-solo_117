{
 "cells": [
  {
   "cell_type": "code",
   "execution_count": 1,
   "metadata": {},
   "outputs": [],
   "source": [
    "import numpy as np\n",
    "import pandas as pd\n",
    "import seaborn as sns\n",
    "import matplotlib.pyplot as plt\n",
    "import sys, os\n",
    "sys.path.insert(0, os.path.abspath('..'))\n",
    "from scripts import project_functions"
   ]
  },
  {
   "cell_type": "code",
   "execution_count": 2,
   "metadata": {},
   "outputs": [
    {
     "data": {
      "text/html": [
       "<div>\n",
       "<style scoped>\n",
       "    .dataframe tbody tr th:only-of-type {\n",
       "        vertical-align: middle;\n",
       "    }\n",
       "\n",
       "    .dataframe tbody tr th {\n",
       "        vertical-align: top;\n",
       "    }\n",
       "\n",
       "    .dataframe thead th {\n",
       "        text-align: right;\n",
       "    }\n",
       "</style>\n",
       "<table border=\"1\" class=\"dataframe\">\n",
       "  <thead>\n",
       "    <tr style=\"text-align: right;\">\n",
       "      <th></th>\n",
       "      <th>Player</th>\n",
       "      <th>S/C</th>\n",
       "      <th>Pos</th>\n",
       "      <th>GamesPlayed</th>\n",
       "      <th>G</th>\n",
       "      <th>A</th>\n",
       "      <th>P</th>\n",
       "      <th>PlusMinus</th>\n",
       "      <th>PenaltyMins</th>\n",
       "      <th>P/GP</th>\n",
       "      <th>EVG</th>\n",
       "      <th>EVP</th>\n",
       "      <th>PPG</th>\n",
       "      <th>PPP</th>\n",
       "      <th>SHG</th>\n",
       "      <th>SHP</th>\n",
       "      <th>OTG</th>\n",
       "      <th>GWG</th>\n",
       "      <th>Shots</th>\n",
       "    </tr>\n",
       "  </thead>\n",
       "  <tbody>\n",
       "    <tr>\n",
       "      <th>203</th>\n",
       "      <td>Jarome Iginla</td>\n",
       "      <td>R</td>\n",
       "      <td>R</td>\n",
       "      <td>1219.0</td>\n",
       "      <td>525.0</td>\n",
       "      <td>570.0</td>\n",
       "      <td>1095.0</td>\n",
       "      <td>46.0</td>\n",
       "      <td>831.0</td>\n",
       "      <td>0.90</td>\n",
       "      <td>351.0</td>\n",
       "      <td>708.0</td>\n",
       "      <td>161.0</td>\n",
       "      <td>365.0</td>\n",
       "      <td>13.0</td>\n",
       "      <td>22.0</td>\n",
       "      <td>6.0</td>\n",
       "      <td>83.0</td>\n",
       "      <td>3992.0</td>\n",
       "    </tr>\n",
       "    <tr>\n",
       "      <th>130</th>\n",
       "      <td>Theo Fleury</td>\n",
       "      <td>R</td>\n",
       "      <td>R</td>\n",
       "      <td>791.0</td>\n",
       "      <td>364.0</td>\n",
       "      <td>466.0</td>\n",
       "      <td>830.0</td>\n",
       "      <td>148.0</td>\n",
       "      <td>1339.0</td>\n",
       "      <td>1.05</td>\n",
       "      <td>229.0</td>\n",
       "      <td>508.0</td>\n",
       "      <td>107.0</td>\n",
       "      <td>281.0</td>\n",
       "      <td>28.0</td>\n",
       "      <td>41.0</td>\n",
       "      <td>5.0</td>\n",
       "      <td>53.0</td>\n",
       "      <td>2685.0</td>\n",
       "    </tr>\n",
       "    <tr>\n",
       "      <th>330</th>\n",
       "      <td>Joe Nieuwendyk</td>\n",
       "      <td>L</td>\n",
       "      <td>C</td>\n",
       "      <td>577.0</td>\n",
       "      <td>314.0</td>\n",
       "      <td>302.0</td>\n",
       "      <td>616.0</td>\n",
       "      <td>135.0</td>\n",
       "      <td>330.0</td>\n",
       "      <td>1.07</td>\n",
       "      <td>173.0</td>\n",
       "      <td>369.0</td>\n",
       "      <td>130.0</td>\n",
       "      <td>234.0</td>\n",
       "      <td>11.0</td>\n",
       "      <td>13.0</td>\n",
       "      <td>3.0</td>\n",
       "      <td>43.0</td>\n",
       "      <td>1549.0</td>\n",
       "    </tr>\n",
       "    <tr>\n",
       "      <th>387</th>\n",
       "      <td>Gary Roberts</td>\n",
       "      <td>L</td>\n",
       "      <td>L</td>\n",
       "      <td>585.0</td>\n",
       "      <td>257.0</td>\n",
       "      <td>248.0</td>\n",
       "      <td>505.0</td>\n",
       "      <td>225.0</td>\n",
       "      <td>1736.0</td>\n",
       "      <td>0.86</td>\n",
       "      <td>199.0</td>\n",
       "      <td>400.0</td>\n",
       "      <td>51.0</td>\n",
       "      <td>96.0</td>\n",
       "      <td>7.0</td>\n",
       "      <td>9.0</td>\n",
       "      <td>3.0</td>\n",
       "      <td>27.0</td>\n",
       "      <td>1254.0</td>\n",
       "    </tr>\n",
       "    <tr>\n",
       "      <th>332</th>\n",
       "      <td>Kent Nilsson</td>\n",
       "      <td>L</td>\n",
       "      <td>C</td>\n",
       "      <td>425.0</td>\n",
       "      <td>229.0</td>\n",
       "      <td>333.0</td>\n",
       "      <td>562.0</td>\n",
       "      <td>-34.0</td>\n",
       "      <td>90.0</td>\n",
       "      <td>1.32</td>\n",
       "      <td>134.0</td>\n",
       "      <td>312.0</td>\n",
       "      <td>79.0</td>\n",
       "      <td>227.0</td>\n",
       "      <td>16.0</td>\n",
       "      <td>23.0</td>\n",
       "      <td>1.0</td>\n",
       "      <td>25.0</td>\n",
       "      <td>1136.0</td>\n",
       "    </tr>\n",
       "  </tbody>\n",
       "</table>\n",
       "</div>"
      ],
      "text/plain": [
       "             Player S/C Pos  GamesPlayed      G      A       P  PlusMinus  \\\n",
       "203   Jarome Iginla   R   R       1219.0  525.0  570.0  1095.0       46.0   \n",
       "130     Theo Fleury   R   R        791.0  364.0  466.0   830.0      148.0   \n",
       "330  Joe Nieuwendyk   L   C        577.0  314.0  302.0   616.0      135.0   \n",
       "387    Gary Roberts   L   L        585.0  257.0  248.0   505.0      225.0   \n",
       "332    Kent Nilsson   L   C        425.0  229.0  333.0   562.0      -34.0   \n",
       "\n",
       "     PenaltyMins  P/GP    EVG    EVP    PPG    PPP   SHG   SHP  OTG   GWG  \\\n",
       "203        831.0  0.90  351.0  708.0  161.0  365.0  13.0  22.0  6.0  83.0   \n",
       "130       1339.0  1.05  229.0  508.0  107.0  281.0  28.0  41.0  5.0  53.0   \n",
       "330        330.0  1.07  173.0  369.0  130.0  234.0  11.0  13.0  3.0  43.0   \n",
       "387       1736.0  0.86  199.0  400.0   51.0   96.0   7.0   9.0  3.0  27.0   \n",
       "332         90.0  1.32  134.0  312.0   79.0  227.0  16.0  23.0  1.0  25.0   \n",
       "\n",
       "      Shots  \n",
       "203  3992.0  \n",
       "130  2685.0  \n",
       "330  1549.0  \n",
       "387  1254.0  \n",
       "332  1136.0  "
      ]
     },
     "execution_count": 2,
     "metadata": {},
     "output_type": "execute_result"
    }
   ],
   "source": [
    "df = project_functions.load_and_process('FlamesData.csv')\n",
    "df.head()"
   ]
  },
  {
   "cell_type": "markdown",
   "metadata": {},
   "source": [
    "# What has happend so far\n",
    "By using the *load_and_process* function the data has undergon some trimming and reorganization. The following columns were deleted because they were deemed irrelevant to the research question:\n",
    "1. Face off win percentage (FOW%)\n",
    "1. Shot percentage (S%), this the percentage of shots taken that actually lead to goals scored\n",
    "1. Time on the ice per games played (TOI/GP), this is a notoriously unreliable measurement\n",
    "\n",
    "Players who did not shoot at the net at least 50 times and players who played less than 70 games were deleted. 70 games was chosen because it is approximately the length of one regular season. The players were then organised by goals descending.\n"
   ]
  },
  {
   "cell_type": "code",
   "execution_count": 3,
   "metadata": {},
   "outputs": [],
   "source": [
    "total = len(df)\n",
    "df['Intials'] = \"\"\n",
    "for i in range(0,total) :\n",
    "        intial = \"\"\n",
    "        for c in df.iloc[i,0]:\n",
    "            if c.isupper():\n",
    "                intial = intial + c\n",
    "        df.iloc[i,19] = intial"
   ]
  },
  {
   "cell_type": "code",
   "execution_count": 4,
   "metadata": {},
   "outputs": [],
   "source": [
    "df['GoalsPerGame'] = df['G'] / df['GamesPlayed']"
   ]
  },
  {
   "cell_type": "markdown",
   "metadata": {},
   "source": [
    "In the above code I am adding a column of the players intials to increase the readability of graphs and adding a goals per game column,"
   ]
  },
  {
   "cell_type": "code",
   "execution_count": 5,
   "metadata": {},
   "outputs": [],
   "source": [
    "df['GoalsNorm'] = (df['G']-df['G'].min())/(df['G'].max()-df['G'].min())\n",
    "df['GWGNorm'] = (df['GWG']-df['GWG'].min())/(df['GWG'].max()-df['GWG'].min())\n",
    "df['PIMNorm'] = ((df['PenaltyMins']-df['PenaltyMins'].min())/(df['PenaltyMins'].max()-df['PenaltyMins'].min()))*-1\n",
    "df['PluMinNorm'] = (df['PlusMinus']-df['PlusMinus'].min())/(df['PlusMinus'].max()-df['PlusMinus'].min())\n",
    "df['GPGNorm'] = (df['GoalsPerGame']-df['GoalsPerGame'].min())/(df['GoalsPerGame'].max()-df['GoalsPerGame'].min())"
   ]
  },
  {
   "cell_type": "markdown",
   "metadata": {},
   "source": [
    "The above code is performing a min/max 0-1 normalisation on specific attributes of interest and saving them in columns."
   ]
  },
  {
   "cell_type": "markdown",
   "metadata": {},
   "source": [
    "# top 10 goal scorers\n",
    "For the next section we are going to play around with different stats and plots from only the top 15 goal scorers of all time. We will be using mostly bar plots here because they make the most sense for the data."
   ]
  },
  {
   "cell_type": "code",
   "execution_count": 6,
   "metadata": {},
   "outputs": [
    {
     "data": {
      "text/html": [
       "<div>\n",
       "<style scoped>\n",
       "    .dataframe tbody tr th:only-of-type {\n",
       "        vertical-align: middle;\n",
       "    }\n",
       "\n",
       "    .dataframe tbody tr th {\n",
       "        vertical-align: top;\n",
       "    }\n",
       "\n",
       "    .dataframe thead th {\n",
       "        text-align: right;\n",
       "    }\n",
       "</style>\n",
       "<table border=\"1\" class=\"dataframe\">\n",
       "  <thead>\n",
       "    <tr style=\"text-align: right;\">\n",
       "      <th></th>\n",
       "      <th>Player</th>\n",
       "      <th>S/C</th>\n",
       "      <th>Pos</th>\n",
       "      <th>GamesPlayed</th>\n",
       "      <th>G</th>\n",
       "      <th>A</th>\n",
       "      <th>P</th>\n",
       "      <th>PlusMinus</th>\n",
       "      <th>PenaltyMins</th>\n",
       "      <th>P/GP</th>\n",
       "      <th>...</th>\n",
       "      <th>OTG</th>\n",
       "      <th>GWG</th>\n",
       "      <th>Shots</th>\n",
       "      <th>Intials</th>\n",
       "      <th>GoalsPerGame</th>\n",
       "      <th>GoalsNorm</th>\n",
       "      <th>GWGNorm</th>\n",
       "      <th>PIMNorm</th>\n",
       "      <th>PluMinNorm</th>\n",
       "      <th>GPGNorm</th>\n",
       "    </tr>\n",
       "  </thead>\n",
       "  <tbody>\n",
       "    <tr>\n",
       "      <th>203</th>\n",
       "      <td>Jarome Iginla</td>\n",
       "      <td>R</td>\n",
       "      <td>R</td>\n",
       "      <td>1219.0</td>\n",
       "      <td>525.0</td>\n",
       "      <td>570.0</td>\n",
       "      <td>1095.0</td>\n",
       "      <td>46.0</td>\n",
       "      <td>831.0</td>\n",
       "      <td>0.90</td>\n",
       "      <td>...</td>\n",
       "      <td>6.0</td>\n",
       "      <td>83.0</td>\n",
       "      <td>3992.0</td>\n",
       "      <td>JI</td>\n",
       "      <td>0.430681</td>\n",
       "      <td>1.000000</td>\n",
       "      <td>1.000000</td>\n",
       "      <td>-0.342248</td>\n",
       "      <td>0.339041</td>\n",
       "      <td>0.766865</td>\n",
       "    </tr>\n",
       "    <tr>\n",
       "      <th>130</th>\n",
       "      <td>Theo Fleury</td>\n",
       "      <td>R</td>\n",
       "      <td>R</td>\n",
       "      <td>791.0</td>\n",
       "      <td>364.0</td>\n",
       "      <td>466.0</td>\n",
       "      <td>830.0</td>\n",
       "      <td>148.0</td>\n",
       "      <td>1339.0</td>\n",
       "      <td>1.05</td>\n",
       "      <td>...</td>\n",
       "      <td>5.0</td>\n",
       "      <td>53.0</td>\n",
       "      <td>2685.0</td>\n",
       "      <td>TF</td>\n",
       "      <td>0.460177</td>\n",
       "      <td>0.692748</td>\n",
       "      <td>0.638554</td>\n",
       "      <td>-0.554534</td>\n",
       "      <td>0.688356</td>\n",
       "      <td>0.820528</td>\n",
       "    </tr>\n",
       "    <tr>\n",
       "      <th>330</th>\n",
       "      <td>Joe Nieuwendyk</td>\n",
       "      <td>L</td>\n",
       "      <td>C</td>\n",
       "      <td>577.0</td>\n",
       "      <td>314.0</td>\n",
       "      <td>302.0</td>\n",
       "      <td>616.0</td>\n",
       "      <td>135.0</td>\n",
       "      <td>330.0</td>\n",
       "      <td>1.07</td>\n",
       "      <td>...</td>\n",
       "      <td>3.0</td>\n",
       "      <td>43.0</td>\n",
       "      <td>1549.0</td>\n",
       "      <td>JN</td>\n",
       "      <td>0.544194</td>\n",
       "      <td>0.597328</td>\n",
       "      <td>0.518072</td>\n",
       "      <td>-0.132888</td>\n",
       "      <td>0.643836</td>\n",
       "      <td>0.973384</td>\n",
       "    </tr>\n",
       "    <tr>\n",
       "      <th>387</th>\n",
       "      <td>Gary Roberts</td>\n",
       "      <td>L</td>\n",
       "      <td>L</td>\n",
       "      <td>585.0</td>\n",
       "      <td>257.0</td>\n",
       "      <td>248.0</td>\n",
       "      <td>505.0</td>\n",
       "      <td>225.0</td>\n",
       "      <td>1736.0</td>\n",
       "      <td>0.86</td>\n",
       "      <td>...</td>\n",
       "      <td>3.0</td>\n",
       "      <td>27.0</td>\n",
       "      <td>1254.0</td>\n",
       "      <td>GR</td>\n",
       "      <td>0.439316</td>\n",
       "      <td>0.488550</td>\n",
       "      <td>0.325301</td>\n",
       "      <td>-0.720435</td>\n",
       "      <td>0.952055</td>\n",
       "      <td>0.782575</td>\n",
       "    </tr>\n",
       "    <tr>\n",
       "      <th>332</th>\n",
       "      <td>Kent Nilsson</td>\n",
       "      <td>L</td>\n",
       "      <td>C</td>\n",
       "      <td>425.0</td>\n",
       "      <td>229.0</td>\n",
       "      <td>333.0</td>\n",
       "      <td>562.0</td>\n",
       "      <td>-34.0</td>\n",
       "      <td>90.0</td>\n",
       "      <td>1.32</td>\n",
       "      <td>...</td>\n",
       "      <td>1.0</td>\n",
       "      <td>25.0</td>\n",
       "      <td>1136.0</td>\n",
       "      <td>KN</td>\n",
       "      <td>0.538824</td>\n",
       "      <td>0.435115</td>\n",
       "      <td>0.301205</td>\n",
       "      <td>-0.032595</td>\n",
       "      <td>0.065068</td>\n",
       "      <td>0.963613</td>\n",
       "    </tr>\n",
       "  </tbody>\n",
       "</table>\n",
       "<p>5 rows × 26 columns</p>\n",
       "</div>"
      ],
      "text/plain": [
       "             Player S/C Pos  GamesPlayed      G      A       P  PlusMinus  \\\n",
       "203   Jarome Iginla   R   R       1219.0  525.0  570.0  1095.0       46.0   \n",
       "130     Theo Fleury   R   R        791.0  364.0  466.0   830.0      148.0   \n",
       "330  Joe Nieuwendyk   L   C        577.0  314.0  302.0   616.0      135.0   \n",
       "387    Gary Roberts   L   L        585.0  257.0  248.0   505.0      225.0   \n",
       "332    Kent Nilsson   L   C        425.0  229.0  333.0   562.0      -34.0   \n",
       "\n",
       "     PenaltyMins  P/GP  ...  OTG   GWG   Shots  Intials  GoalsPerGame  \\\n",
       "203        831.0  0.90  ...  6.0  83.0  3992.0       JI      0.430681   \n",
       "130       1339.0  1.05  ...  5.0  53.0  2685.0       TF      0.460177   \n",
       "330        330.0  1.07  ...  3.0  43.0  1549.0       JN      0.544194   \n",
       "387       1736.0  0.86  ...  3.0  27.0  1254.0       GR      0.439316   \n",
       "332         90.0  1.32  ...  1.0  25.0  1136.0       KN      0.538824   \n",
       "\n",
       "     GoalsNorm   GWGNorm   PIMNorm  PluMinNorm   GPGNorm  \n",
       "203   1.000000  1.000000 -0.342248    0.339041  0.766865  \n",
       "130   0.692748  0.638554 -0.554534    0.688356  0.820528  \n",
       "330   0.597328  0.518072 -0.132888    0.643836  0.973384  \n",
       "387   0.488550  0.325301 -0.720435    0.952055  0.782575  \n",
       "332   0.435115  0.301205 -0.032595    0.065068  0.963613  \n",
       "\n",
       "[5 rows x 26 columns]"
      ]
     },
     "execution_count": 6,
     "metadata": {},
     "output_type": "execute_result"
    }
   ],
   "source": [
    "top20Goal = df.head(20)\n",
    "top20Goal.head()"
   ]
  },
  {
   "cell_type": "code",
   "execution_count": 7,
   "metadata": {},
   "outputs": [
    {
     "data": {
      "image/png": "[encoded data removed]",
      "text/plain": [
       "<Figure size 432x288 with 1 Axes>"
      ]
     },
     "metadata": {
      "needs_background": "light"
     },
     "output_type": "display_data"
    }
   ],
   "source": [
    "plotT20GG = sns.barplot(x='Intials', y='G', data = top20Goal)"
   ]
  },
  {
   "cell_type": "code",
   "execution_count": 8,
   "metadata": {},
   "outputs": [
    {
     "data": {
      "image/png": "[encoded data removed]",
      "text/plain": [
       "<Figure size 432x288 with 1 Axes>"
      ]
     },
     "metadata": {
      "needs_background": "light"
     },
     "output_type": "display_data"
    }
   ],
   "source": [
    "plotT20GPIM = sns.barplot(x='Intials', y='PenaltyMins', data = top20Goal)"
   ]
  },
  {
   "cell_type": "code",
   "execution_count": 9,
   "metadata": {},
   "outputs": [
    {
     "data": {
      "image/png": "[encoded data removed]",
      "text/plain": [
       "<Figure size 432x288 with 1 Axes>"
      ]
     },
     "metadata": {
      "needs_background": "light"
     },
     "output_type": "display_data"
    }
   ],
   "source": [
    "sPlotT20GPIM = sns.scatterplot(x='PenaltyMins', y='G', data = top20Goal)"
   ]
  },
  {
   "cell_type": "markdown",
   "metadata": {},
   "source": [
    "From the above scatter plot we can see that in the top 20 goal scorers there doesn't seem to be any relationship between penalty mins and goals scored."
   ]
  },
  {
   "cell_type": "code",
   "execution_count": 10,
   "metadata": {},
   "outputs": [
    {
     "name": "stderr",
     "output_type": "stream",
     "text": [
      "<ipython-input-10-73792c8d3355>:1: SettingWithCopyWarning: \n",
      "A value is trying to be set on a copy of a slice from a DataFrame.\n",
      "Try using .loc[row_indexer,col_indexer] = value instead\n",
      "\n",
      "See the caveats in the documentation: https://pandas.pydata.org/pandas-docs/stable/user_guide/indexing.html#returning-a-view-versus-a-copy\n",
      "  top20Goal['ShotsPerGoal'] = top20Goal['Shots'] / top20Goal['G']\n"
     ]
    },
    {
     "data": {
      "image/png": "[encoded data removed]",
      "text/plain": [
       "<Figure size 432x288 with 1 Axes>"
      ]
     },
     "metadata": {
      "needs_background": "light"
     },
     "output_type": "display_data"
    }
   ],
   "source": [
    "top20Goal['ShotsPerGoal'] = top20Goal['Shots'] / top20Goal['G']\n",
    "plotT20GSPG = sns.barplot(x='Intials', y='ShotsPerGoal', data = top20Goal)"
   ]
  },
  {
   "cell_type": "code",
   "execution_count": 11,
   "metadata": {},
   "outputs": [
    {
     "data": {
      "image/png": "[encoded data removed]",
      "text/plain": [
       "<Figure size 432x288 with 1 Axes>"
      ]
     },
     "metadata": {
      "needs_background": "light"
     },
     "output_type": "display_data"
    }
   ],
   "source": [
    "top20GGWG = sns.barplot(x='Intials', y='GWG', data = top20Goal)"
   ]
  },
  {
   "cell_type": "code",
   "execution_count": 12,
   "metadata": {},
   "outputs": [
    {
     "data": {
      "image/png": "[encoded data removed]",
      "text/plain": [
       "<Figure size 432x288 with 1 Axes>"
      ]
     },
     "metadata": {
      "needs_background": "light"
     },
     "output_type": "display_data"
    }
   ],
   "source": [
    "top20GPM = sns.barplot(x='Intials', y='PlusMinus', data = top20Goal)"
   ]
  },
  {
   "cell_type": "code",
   "execution_count": 13,
   "metadata": {},
   "outputs": [
    {
     "data": {
      "image/png": "[encoded data removed]",
      "text/plain": [
       "<Figure size 432x288 with 1 Axes>"
      ]
     },
     "metadata": {
      "needs_background": "light"
     },
     "output_type": "display_data"
    }
   ],
   "source": [
    "top20GGPG = sns.barplot(x='Intials', y='GoalsPerGame', data = top20Goal)"
   ]
  },
  {
   "cell_type": "code",
   "execution_count": 14,
   "metadata": {},
   "outputs": [
    {
     "data": {
      "image/png": "[encoded data removed]",
      "text/plain": [
       "<Figure size 432x288 with 1 Axes>"
      ]
     },
     "metadata": {
      "needs_background": "light"
     },
     "output_type": "display_data"
    }
   ],
   "source": [
    "sPlotT20GGP = sns.scatterplot(x='GamesPlayed', y='G', data = top20Goal)"
   ]
  },
  {
   "cell_type": "markdown",
   "metadata": {},
   "source": [
    "From the above graph we can see that there appears to be some sort of relationship between the amount of games played and total goals scored, at least for the top 20 goal scorers."
   ]
  },
  {
   "cell_type": "markdown",
   "metadata": {},
   "source": [
    "# Summary\n",
    "\n",
    "The above graphs are all demonstrating the top 20 goal scorers and their different attributes. From the above graphs it looks like I might make a weighting system and score players based on the weighting system. The final bar graph of player names and their overall score should reveal the best player to have ever played for the flames."
   ]
  }
 ],
 "metadata": {
  "kernelspec": {
   "display_name": "Python 3",
   "language": "python",
   "name": "python3"
  },
  "language_info": {
   "codemirror_mode": {
    "name": "ipython",
    "version": 3
   },
   "file_extension": ".py",
   "mimetype": "text/x-python",
   "name": "python",
   "nbconvert_exporter": "python",
   "pygments_lexer": "ipython3",
   "version": "3.8.3"
  }
 },
 "nbformat": 4,
 "nbformat_minor": 4
}
