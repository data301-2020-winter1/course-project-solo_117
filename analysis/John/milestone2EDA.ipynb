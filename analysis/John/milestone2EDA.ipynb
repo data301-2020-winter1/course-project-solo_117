{
 "cells": [
  {
   "cell_type": "code",
   "execution_count": 4,
   "metadata": {},
   "outputs": [],
   "source": [
    "import numpy as np\n",
    "import pandas as pd\n",
    "import seaborn as sns\n",
    "import matplotlib.pyplot as plt\n",
    "import sys, os\n",
    "sys.path.insert(0, os.path.abspath('..'))\n",
    "from scripts import project_functions"
   ]
  },
  {
   "cell_type": "code",
   "execution_count": 3,
   "metadata": {},
   "outputs": [
    {
     "data": {
      "text/html": [
       "<div>\n",
       "<style scoped>\n",
       "    .dataframe tbody tr th:only-of-type {\n",
       "        vertical-align: middle;\n",
       "    }\n",
       "\n",
       "    .dataframe tbody tr th {\n",
       "        vertical-align: top;\n",
       "    }\n",
       "\n",
       "    .dataframe thead th {\n",
       "        text-align: right;\n",
       "    }\n",
       "</style>\n",
       "<table border=\"1\" class=\"dataframe\">\n",
       "  <thead>\n",
       "    <tr style=\"text-align: right;\">\n",
       "      <th></th>\n",
       "      <th>Player</th>\n",
       "      <th>S/C</th>\n",
       "      <th>Pos</th>\n",
       "      <th>GamesPlayed</th>\n",
       "      <th>G</th>\n",
       "      <th>A</th>\n",
       "      <th>P</th>\n",
       "      <th>PlusMinus</th>\n",
       "      <th>PenaltyMins</th>\n",
       "      <th>P/GP</th>\n",
       "      <th>EVG</th>\n",
       "      <th>EVP</th>\n",
       "      <th>PPG</th>\n",
       "      <th>PPP</th>\n",
       "      <th>SHG</th>\n",
       "      <th>SHP</th>\n",
       "      <th>OTG</th>\n",
       "      <th>GWG</th>\n",
       "      <th>Shots</th>\n",
       "    </tr>\n",
       "  </thead>\n",
       "  <tbody>\n",
       "    <tr>\n",
       "      <th>203</th>\n",
       "      <td>Jarome Iginla</td>\n",
       "      <td>R</td>\n",
       "      <td>R</td>\n",
       "      <td>1219.0</td>\n",
       "      <td>525.0</td>\n",
       "      <td>570.0</td>\n",
       "      <td>1095.0</td>\n",
       "      <td>46.0</td>\n",
       "      <td>831.0</td>\n",
       "      <td>0.90</td>\n",
       "      <td>351.0</td>\n",
       "      <td>708.0</td>\n",
       "      <td>161.0</td>\n",
       "      <td>365.0</td>\n",
       "      <td>13.0</td>\n",
       "      <td>22.0</td>\n",
       "      <td>6.0</td>\n",
       "      <td>83.0</td>\n",
       "      <td>3992.0</td>\n",
       "    </tr>\n",
       "    <tr>\n",
       "      <th>130</th>\n",
       "      <td>Theo Fleury</td>\n",
       "      <td>R</td>\n",
       "      <td>R</td>\n",
       "      <td>791.0</td>\n",
       "      <td>364.0</td>\n",
       "      <td>466.0</td>\n",
       "      <td>830.0</td>\n",
       "      <td>148.0</td>\n",
       "      <td>1339.0</td>\n",
       "      <td>1.05</td>\n",
       "      <td>229.0</td>\n",
       "      <td>508.0</td>\n",
       "      <td>107.0</td>\n",
       "      <td>281.0</td>\n",
       "      <td>28.0</td>\n",
       "      <td>41.0</td>\n",
       "      <td>5.0</td>\n",
       "      <td>53.0</td>\n",
       "      <td>2685.0</td>\n",
       "    </tr>\n",
       "    <tr>\n",
       "      <th>330</th>\n",
       "      <td>Joe Nieuwendyk</td>\n",
       "      <td>L</td>\n",
       "      <td>C</td>\n",
       "      <td>577.0</td>\n",
       "      <td>314.0</td>\n",
       "      <td>302.0</td>\n",
       "      <td>616.0</td>\n",
       "      <td>135.0</td>\n",
       "      <td>330.0</td>\n",
       "      <td>1.07</td>\n",
       "      <td>173.0</td>\n",
       "      <td>369.0</td>\n",
       "      <td>130.0</td>\n",
       "      <td>234.0</td>\n",
       "      <td>11.0</td>\n",
       "      <td>13.0</td>\n",
       "      <td>3.0</td>\n",
       "      <td>43.0</td>\n",
       "      <td>1549.0</td>\n",
       "    </tr>\n",
       "    <tr>\n",
       "      <th>387</th>\n",
       "      <td>Gary Roberts</td>\n",
       "      <td>L</td>\n",
       "      <td>L</td>\n",
       "      <td>585.0</td>\n",
       "      <td>257.0</td>\n",
       "      <td>248.0</td>\n",
       "      <td>505.0</td>\n",
       "      <td>225.0</td>\n",
       "      <td>1736.0</td>\n",
       "      <td>0.86</td>\n",
       "      <td>199.0</td>\n",
       "      <td>400.0</td>\n",
       "      <td>51.0</td>\n",
       "      <td>96.0</td>\n",
       "      <td>7.0</td>\n",
       "      <td>9.0</td>\n",
       "      <td>3.0</td>\n",
       "      <td>27.0</td>\n",
       "      <td>1254.0</td>\n",
       "    </tr>\n",
       "    <tr>\n",
       "      <th>332</th>\n",
       "      <td>Kent Nilsson</td>\n",
       "      <td>L</td>\n",
       "      <td>C</td>\n",
       "      <td>425.0</td>\n",
       "      <td>229.0</td>\n",
       "      <td>333.0</td>\n",
       "      <td>562.0</td>\n",
       "      <td>-34.0</td>\n",
       "      <td>90.0</td>\n",
       "      <td>1.32</td>\n",
       "      <td>134.0</td>\n",
       "      <td>312.0</td>\n",
       "      <td>79.0</td>\n",
       "      <td>227.0</td>\n",
       "      <td>16.0</td>\n",
       "      <td>23.0</td>\n",
       "      <td>1.0</td>\n",
       "      <td>25.0</td>\n",
       "      <td>1136.0</td>\n",
       "    </tr>\n",
       "  </tbody>\n",
       "</table>\n",
       "</div>"
      ],
      "text/plain": [
       "             Player S/C Pos  GamesPlayed      G      A       P  PlusMinus  \\\n",
       "203   Jarome Iginla   R   R       1219.0  525.0  570.0  1095.0       46.0   \n",
       "130     Theo Fleury   R   R        791.0  364.0  466.0   830.0      148.0   \n",
       "330  Joe Nieuwendyk   L   C        577.0  314.0  302.0   616.0      135.0   \n",
       "387    Gary Roberts   L   L        585.0  257.0  248.0   505.0      225.0   \n",
       "332    Kent Nilsson   L   C        425.0  229.0  333.0   562.0      -34.0   \n",
       "\n",
       "     PenaltyMins  P/GP    EVG    EVP    PPG    PPP   SHG   SHP  OTG   GWG  \\\n",
       "203        831.0  0.90  351.0  708.0  161.0  365.0  13.0  22.0  6.0  83.0   \n",
       "130       1339.0  1.05  229.0  508.0  107.0  281.0  28.0  41.0  5.0  53.0   \n",
       "330        330.0  1.07  173.0  369.0  130.0  234.0  11.0  13.0  3.0  43.0   \n",
       "387       1736.0  0.86  199.0  400.0   51.0   96.0   7.0   9.0  3.0  27.0   \n",
       "332         90.0  1.32  134.0  312.0   79.0  227.0  16.0  23.0  1.0  25.0   \n",
       "\n",
       "      Shots  \n",
       "203  3992.0  \n",
       "130  2685.0  \n",
       "330  1549.0  \n",
       "387  1254.0  \n",
       "332  1136.0  "
      ]
     },
     "execution_count": 3,
     "metadata": {},
     "output_type": "execute_result"
    }
   ],
   "source": [
    "df = project_functions.load_and_process('FlamesData.csv')\n",
    "df.head()"
   ]
  },
  {
   "cell_type": "markdown",
   "metadata": {},
   "source": [
    "# What has happend so far\n",
    "By using the *load_and_process* function the data has undergon some trimming and reorganization. The following columns were deleted because they were deemed irrelevant to the research question:\n",
    "1. Face off win percentage (FOW%)\n",
    "1. Shot percentage (S%), this the percentage of shots taken that actually lead to goals scored\n",
    "1. Time on the ice per games played (TOI/GP), this is a notoriously unreliable measurement\n",
    "\n",
    "Players who did not shoot at the net at least 50 times and players who played less than 70 games were deleted. 70 games was chosen because it is approximately the length of one regular season. The players were then organised by goals descending.\n"
   ]
  },
  {
   "cell_type": "code",
   "execution_count": 15,
   "metadata": {},
   "outputs": [
    {
     "data": {
      "text/plain": [
       "211"
      ]
     },
     "execution_count": 15,
     "metadata": {},
     "output_type": "execute_result"
    }
   ],
   "source": [
    "total = len(df)\n",
    "total"
   ]
  },
  {
   "cell_type": "markdown",
   "metadata": {},
   "source": [
    "# top 10 goal scorers\n",
    "For the next section we are going to play around with different stats and plots from only the top 15 goal scorers of all time. We will be using mostly bar plots here because they make the most sense for the data."
   ]
  },
  {
   "cell_type": "code",
   "execution_count": 49,
   "metadata": {},
   "outputs": [
    {
     "data": {
      "text/html": [
       "<div>\n",
       "<style scoped>\n",
       "    .dataframe tbody tr th:only-of-type {\n",
       "        vertical-align: middle;\n",
       "    }\n",
       "\n",
       "    .dataframe tbody tr th {\n",
       "        vertical-align: top;\n",
       "    }\n",
       "\n",
       "    .dataframe thead th {\n",
       "        text-align: right;\n",
       "    }\n",
       "</style>\n",
       "<table border=\"1\" class=\"dataframe\">\n",
       "  <thead>\n",
       "    <tr style=\"text-align: right;\">\n",
       "      <th></th>\n",
       "      <th>Player</th>\n",
       "      <th>S/C</th>\n",
       "      <th>Pos</th>\n",
       "      <th>GamesPlayed</th>\n",
       "      <th>G</th>\n",
       "      <th>A</th>\n",
       "      <th>P</th>\n",
       "      <th>PlusMinus</th>\n",
       "      <th>PenaltyMins</th>\n",
       "      <th>P/GP</th>\n",
       "      <th>EVG</th>\n",
       "      <th>EVP</th>\n",
       "      <th>PPG</th>\n",
       "      <th>PPP</th>\n",
       "      <th>SHG</th>\n",
       "      <th>SHP</th>\n",
       "      <th>OTG</th>\n",
       "      <th>GWG</th>\n",
       "      <th>Shots</th>\n",
       "    </tr>\n",
       "  </thead>\n",
       "  <tbody>\n",
       "    <tr>\n",
       "      <th>203</th>\n",
       "      <td>Jarome Iginla</td>\n",
       "      <td>R</td>\n",
       "      <td>R</td>\n",
       "      <td>1219.0</td>\n",
       "      <td>525.0</td>\n",
       "      <td>570.0</td>\n",
       "      <td>1095.0</td>\n",
       "      <td>46.0</td>\n",
       "      <td>831.0</td>\n",
       "      <td>0.90</td>\n",
       "      <td>351.0</td>\n",
       "      <td>708.0</td>\n",
       "      <td>161.0</td>\n",
       "      <td>365.0</td>\n",
       "      <td>13.0</td>\n",
       "      <td>22.0</td>\n",
       "      <td>6.0</td>\n",
       "      <td>83.0</td>\n",
       "      <td>3992.0</td>\n",
       "    </tr>\n",
       "    <tr>\n",
       "      <th>130</th>\n",
       "      <td>Theo Fleury</td>\n",
       "      <td>R</td>\n",
       "      <td>R</td>\n",
       "      <td>791.0</td>\n",
       "      <td>364.0</td>\n",
       "      <td>466.0</td>\n",
       "      <td>830.0</td>\n",
       "      <td>148.0</td>\n",
       "      <td>1339.0</td>\n",
       "      <td>1.05</td>\n",
       "      <td>229.0</td>\n",
       "      <td>508.0</td>\n",
       "      <td>107.0</td>\n",
       "      <td>281.0</td>\n",
       "      <td>28.0</td>\n",
       "      <td>41.0</td>\n",
       "      <td>5.0</td>\n",
       "      <td>53.0</td>\n",
       "      <td>2685.0</td>\n",
       "    </tr>\n",
       "    <tr>\n",
       "      <th>330</th>\n",
       "      <td>Joe Nieuwendyk</td>\n",
       "      <td>L</td>\n",
       "      <td>C</td>\n",
       "      <td>577.0</td>\n",
       "      <td>314.0</td>\n",
       "      <td>302.0</td>\n",
       "      <td>616.0</td>\n",
       "      <td>135.0</td>\n",
       "      <td>330.0</td>\n",
       "      <td>1.07</td>\n",
       "      <td>173.0</td>\n",
       "      <td>369.0</td>\n",
       "      <td>130.0</td>\n",
       "      <td>234.0</td>\n",
       "      <td>11.0</td>\n",
       "      <td>13.0</td>\n",
       "      <td>3.0</td>\n",
       "      <td>43.0</td>\n",
       "      <td>1549.0</td>\n",
       "    </tr>\n",
       "    <tr>\n",
       "      <th>387</th>\n",
       "      <td>Gary Roberts</td>\n",
       "      <td>L</td>\n",
       "      <td>L</td>\n",
       "      <td>585.0</td>\n",
       "      <td>257.0</td>\n",
       "      <td>248.0</td>\n",
       "      <td>505.0</td>\n",
       "      <td>225.0</td>\n",
       "      <td>1736.0</td>\n",
       "      <td>0.86</td>\n",
       "      <td>199.0</td>\n",
       "      <td>400.0</td>\n",
       "      <td>51.0</td>\n",
       "      <td>96.0</td>\n",
       "      <td>7.0</td>\n",
       "      <td>9.0</td>\n",
       "      <td>3.0</td>\n",
       "      <td>27.0</td>\n",
       "      <td>1254.0</td>\n",
       "    </tr>\n",
       "    <tr>\n",
       "      <th>332</th>\n",
       "      <td>Kent Nilsson</td>\n",
       "      <td>L</td>\n",
       "      <td>C</td>\n",
       "      <td>425.0</td>\n",
       "      <td>229.0</td>\n",
       "      <td>333.0</td>\n",
       "      <td>562.0</td>\n",
       "      <td>-34.0</td>\n",
       "      <td>90.0</td>\n",
       "      <td>1.32</td>\n",
       "      <td>134.0</td>\n",
       "      <td>312.0</td>\n",
       "      <td>79.0</td>\n",
       "      <td>227.0</td>\n",
       "      <td>16.0</td>\n",
       "      <td>23.0</td>\n",
       "      <td>1.0</td>\n",
       "      <td>25.0</td>\n",
       "      <td>1136.0</td>\n",
       "    </tr>\n",
       "    <tr>\n",
       "      <th>294</th>\n",
       "      <td>Lanny McDonald</td>\n",
       "      <td>R</td>\n",
       "      <td>R</td>\n",
       "      <td>492.0</td>\n",
       "      <td>215.0</td>\n",
       "      <td>191.0</td>\n",
       "      <td>406.0</td>\n",
       "      <td>-3.0</td>\n",
       "      <td>408.0</td>\n",
       "      <td>0.83</td>\n",
       "      <td>153.0</td>\n",
       "      <td>278.0</td>\n",
       "      <td>61.0</td>\n",
       "      <td>127.0</td>\n",
       "      <td>1.0</td>\n",
       "      <td>1.0</td>\n",
       "      <td>0.0</td>\n",
       "      <td>25.0</td>\n",
       "      <td>1322.0</td>\n",
       "    </tr>\n",
       "    <tr>\n",
       "      <th>275</th>\n",
       "      <td>Al MacInnis</td>\n",
       "      <td>R</td>\n",
       "      <td>D</td>\n",
       "      <td>803.0</td>\n",
       "      <td>213.0</td>\n",
       "      <td>609.0</td>\n",
       "      <td>822.0</td>\n",
       "      <td>239.0</td>\n",
       "      <td>960.0</td>\n",
       "      <td>1.02</td>\n",
       "      <td>107.0</td>\n",
       "      <td>325.0</td>\n",
       "      <td>102.0</td>\n",
       "      <td>481.0</td>\n",
       "      <td>4.0</td>\n",
       "      <td>16.0</td>\n",
       "      <td>1.0</td>\n",
       "      <td>22.0</td>\n",
       "      <td>2891.0</td>\n",
       "    </tr>\n",
       "    <tr>\n",
       "      <th>306</th>\n",
       "      <td>Sean Monahan</td>\n",
       "      <td>L</td>\n",
       "      <td>C</td>\n",
       "      <td>541.0</td>\n",
       "      <td>194.0</td>\n",
       "      <td>217.0</td>\n",
       "      <td>411.0</td>\n",
       "      <td>-25.0</td>\n",
       "      <td>119.0</td>\n",
       "      <td>0.76</td>\n",
       "      <td>135.0</td>\n",
       "      <td>287.0</td>\n",
       "      <td>57.0</td>\n",
       "      <td>121.0</td>\n",
       "      <td>2.0</td>\n",
       "      <td>3.0</td>\n",
       "      <td>11.0</td>\n",
       "      <td>40.0</td>\n",
       "      <td>1306.0</td>\n",
       "    </tr>\n",
       "    <tr>\n",
       "      <th>267</th>\n",
       "      <td>Hakan Loob</td>\n",
       "      <td>L</td>\n",
       "      <td>R</td>\n",
       "      <td>450.0</td>\n",
       "      <td>193.0</td>\n",
       "      <td>236.0</td>\n",
       "      <td>429.0</td>\n",
       "      <td>103.0</td>\n",
       "      <td>189.0</td>\n",
       "      <td>0.95</td>\n",
       "      <td>142.0</td>\n",
       "      <td>293.0</td>\n",
       "      <td>42.0</td>\n",
       "      <td>117.0</td>\n",
       "      <td>9.0</td>\n",
       "      <td>19.0</td>\n",
       "      <td>1.0</td>\n",
       "      <td>17.0</td>\n",
       "      <td>1126.0</td>\n",
       "    </tr>\n",
       "    <tr>\n",
       "      <th>315</th>\n",
       "      <td>Joe Mullen</td>\n",
       "      <td>R</td>\n",
       "      <td>R</td>\n",
       "      <td>345.0</td>\n",
       "      <td>190.0</td>\n",
       "      <td>198.0</td>\n",
       "      <td>388.0</td>\n",
       "      <td>106.0</td>\n",
       "      <td>95.0</td>\n",
       "      <td>1.12</td>\n",
       "      <td>133.0</td>\n",
       "      <td>250.0</td>\n",
       "      <td>53.0</td>\n",
       "      <td>133.0</td>\n",
       "      <td>4.0</td>\n",
       "      <td>5.0</td>\n",
       "      <td>0.0</td>\n",
       "      <td>33.0</td>\n",
       "      <td>978.0</td>\n",
       "    </tr>\n",
       "  </tbody>\n",
       "</table>\n",
       "</div>"
      ],
      "text/plain": [
       "             Player S/C Pos  GamesPlayed      G      A       P  PlusMinus  \\\n",
       "203   Jarome Iginla   R   R       1219.0  525.0  570.0  1095.0       46.0   \n",
       "130     Theo Fleury   R   R        791.0  364.0  466.0   830.0      148.0   \n",
       "330  Joe Nieuwendyk   L   C        577.0  314.0  302.0   616.0      135.0   \n",
       "387    Gary Roberts   L   L        585.0  257.0  248.0   505.0      225.0   \n",
       "332    Kent Nilsson   L   C        425.0  229.0  333.0   562.0      -34.0   \n",
       "294  Lanny McDonald   R   R        492.0  215.0  191.0   406.0       -3.0   \n",
       "275     Al MacInnis   R   D        803.0  213.0  609.0   822.0      239.0   \n",
       "306    Sean Monahan   L   C        541.0  194.0  217.0   411.0      -25.0   \n",
       "267      Hakan Loob   L   R        450.0  193.0  236.0   429.0      103.0   \n",
       "315      Joe Mullen   R   R        345.0  190.0  198.0   388.0      106.0   \n",
       "\n",
       "     PenaltyMins  P/GP    EVG    EVP    PPG    PPP   SHG   SHP   OTG   GWG  \\\n",
       "203        831.0  0.90  351.0  708.0  161.0  365.0  13.0  22.0   6.0  83.0   \n",
       "130       1339.0  1.05  229.0  508.0  107.0  281.0  28.0  41.0   5.0  53.0   \n",
       "330        330.0  1.07  173.0  369.0  130.0  234.0  11.0  13.0   3.0  43.0   \n",
       "387       1736.0  0.86  199.0  400.0   51.0   96.0   7.0   9.0   3.0  27.0   \n",
       "332         90.0  1.32  134.0  312.0   79.0  227.0  16.0  23.0   1.0  25.0   \n",
       "294        408.0  0.83  153.0  278.0   61.0  127.0   1.0   1.0   0.0  25.0   \n",
       "275        960.0  1.02  107.0  325.0  102.0  481.0   4.0  16.0   1.0  22.0   \n",
       "306        119.0  0.76  135.0  287.0   57.0  121.0   2.0   3.0  11.0  40.0   \n",
       "267        189.0  0.95  142.0  293.0   42.0  117.0   9.0  19.0   1.0  17.0   \n",
       "315         95.0  1.12  133.0  250.0   53.0  133.0   4.0   5.0   0.0  33.0   \n",
       "\n",
       "      Shots  \n",
       "203  3992.0  \n",
       "130  2685.0  \n",
       "330  1549.0  \n",
       "387  1254.0  \n",
       "332  1136.0  \n",
       "294  1322.0  \n",
       "275  2891.0  \n",
       "306  1306.0  \n",
       "267  1126.0  \n",
       "315   978.0  "
      ]
     },
     "execution_count": 49,
     "metadata": {},
     "output_type": "execute_result"
    }
   ],
   "source": [
    "top10Goal = df.head(10)\n",
    "top10Goal\n",
    "#intial = \"\"\n",
    "#top10Goal['Intials'] = (for c in top10Goal['Player']:\n",
    "    #if c.isupper():\n",
    "     #   intial = intial + c)\n",
    "#plotT10G = sns.barplot(x='Player', y='G', data = top10Goal)"
   ]
  },
  {
   "cell_type": "code",
   "execution_count": 52,
   "metadata": {},
   "outputs": [],
   "source": [
    "intial = \"\"\n",
    "for c in top10Goal['Player']:\n",
    "    if c.isupper():\n",
    "        intial = intial + c"
   ]
  },
  {
   "cell_type": "code",
   "execution_count": 26,
   "metadata": {},
   "outputs": [
    {
     "data": {
      "image/png": "[encoded data removed]",
      "text/plain": [
       "<Figure size 432x288 with 1 Axes>"
      ]
     },
     "metadata": {
      "needs_background": "light"
     },
     "output_type": "display_data"
    }
   ],
   "source": [
    "plotT10GPim = sns.barplot(x='Player', y='PenaltyMins', data = top10Goal)"
   ]
  },
  {
   "cell_type": "code",
   "execution_count": 32,
   "metadata": {},
   "outputs": [
    {
     "name": "stderr",
     "output_type": "stream",
     "text": [
      "<ipython-input-32-1e3589b9fabc>:1: SettingWithCopyWarning: \n",
      "A value is trying to be set on a copy of a slice from a DataFrame.\n",
      "Try using .loc[row_indexer,col_indexer] = value instead\n",
      "\n",
      "See the caveats in the documentation: https://pandas.pydata.org/pandas-docs/stable/user_guide/indexing.html#returning-a-view-versus-a-copy\n",
      "  top10Goal['ShotsPerGoal'] = top10Goal['Shots'] / top10Goal['G']\n"
     ]
    },
    {
     "data": {
      "image/png": "[encoded data removed]",
      "text/plain": [
       "<Figure size 432x288 with 1 Axes>"
      ]
     },
     "metadata": {
      "needs_background": "light"
     },
     "output_type": "display_data"
    }
   ],
   "source": [
    "top10Goal['ShotsPerGoal'] = top10Goal['Shots'] / top10Goal['G']\n",
    "plotT10GSPG = sns.barplot(x='Player', y='ShotsPerGoal', data = top10Goal)"
   ]
  },
  {
   "cell_type": "code",
   "execution_count": 35,
   "metadata": {},
   "outputs": [
    {
     "data": {
      "image/png": "[encoded data removed]",
      "text/plain": [
       "<Figure size 432x288 with 1 Axes>"
      ]
     },
     "metadata": {
      "needs_background": "light"
     },
     "output_type": "display_data"
    }
   ],
   "source": [
    "top10GGWG = sns.barplot(x='Player', y='GWG', data = top10Goal)"
   ]
  },
  {
   "cell_type": "code",
   "execution_count": 36,
   "metadata": {},
   "outputs": [
    {
     "data": {
      "image/png": "[encoded data removed]",
      "text/plain": [
       "<Figure size 432x288 with 1 Axes>"
      ]
     },
     "metadata": {
      "needs_background": "light"
     },
     "output_type": "display_data"
    }
   ],
   "source": [
    "top10GPM = sns.barplot(x='Player', y='PlusMinus', data = top10Goal)"
   ]
  },
  {
   "cell_type": "code",
   "execution_count": 40,
   "metadata": {},
   "outputs": [
    {
     "name": "stderr",
     "output_type": "stream",
     "text": [
      "<ipython-input-40-92e76b02d46d>:1: SettingWithCopyWarning: \n",
      "A value is trying to be set on a copy of a slice from a DataFrame.\n",
      "Try using .loc[row_indexer,col_indexer] = value instead\n",
      "\n",
      "See the caveats in the documentation: https://pandas.pydata.org/pandas-docs/stable/user_guide/indexing.html#returning-a-view-versus-a-copy\n",
      "  top10Goal['GoalsPerGame'] = top10Goal['G'] / top10Goal['GamesPlayed']\n"
     ]
    },
    {
     "data": {
      "image/png": "[encoded data removed]",
      "text/plain": [
       "<Figure size 432x288 with 1 Axes>"
      ]
     },
     "metadata": {
      "needs_background": "light"
     },
     "output_type": "display_data"
    }
   ],
   "source": [
    "top10Goal['GoalsPerGame'] = top10Goal['G'] / top10Goal['GamesPlayed']\n",
    "top10GGPG = sns.barplot(x='Player', y='GoalsPerGame', data = top10Goal)"
   ]
  },
  {
   "cell_type": "markdown",
   "metadata": {},
   "source": [
    "# Summary\n",
    "\n",
    "The above graphs are all demonstrating the top 10 goal scorers and their different attributes. From the above graphs it looks like I might make a weighting system and score players based on the weighting system. The final bar graph of player names and their overall score should reveal the best player to play for the flames."
   ]
  },
  {
   "cell_type": "code",
   "execution_count": null,
   "metadata": {},
   "outputs": [],
   "source": []
  }
 ],
 "metadata": {
  "kernelspec": {
   "display_name": "Python 3",
   "language": "python",
   "name": "python3"
  },
  "language_info": {
   "codemirror_mode": {
    "name": "ipython",
    "version": 3
   },
   "file_extension": ".py",
   "mimetype": "text/x-python",
   "name": "python",
   "nbconvert_exporter": "python",
   "pygments_lexer": "ipython3",
   "version": "3.8.3"
  }
 },
 "nbformat": 4,
 "nbformat_minor": 4
}
