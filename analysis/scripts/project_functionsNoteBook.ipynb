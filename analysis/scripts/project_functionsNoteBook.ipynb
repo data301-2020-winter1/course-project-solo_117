{
 "cells": [
  {
   "cell_type": "code",
   "execution_count": 6,
   "metadata": {},
   "outputs": [],
   "source": [
    "import numpy as np\n",
    "import pandas as pd"
   ]
  },
  {
   "cell_type": "code",
   "execution_count": 12,
   "metadata": {},
   "outputs": [],
   "source": [
    "def load_and_process(filePath):\n",
    "    df1 = (pd.read_csv(filePath)\n",
    "           .drop(['TOI/GP','FOW%','S%'], axis=1)\n",
    "           .rename(columns = {'GP':'GamesPlayed' , '+/-':'PlusMinus', 'PIM':'PenaltyMins', 'S':'Shots'})\n",
    "    )\n",
    "    df2 = (df1 \n",
    "           .loc[lambda x: x['Shots']>50]\n",
    "           .loc[lambda x: x['GamesPlayed']>70]\n",
    "    )\n",
    "    return df2"
   ]
  },
  {
   "cell_type": "code",
   "execution_count": null,
   "metadata": {},
   "outputs": [],
   "source": []
  },
  {
   "cell_type": "code",
   "execution_count": null,
   "metadata": {},
   "outputs": [],
   "source": []
  },
  {
   "cell_type": "code",
   "execution_count": null,
   "metadata": {},
   "outputs": [],
   "source": []
  }
 ],
 "metadata": {
  "kernelspec": {
   "display_name": "Python 3",
   "language": "python",
   "name": "python3"
  },
  "language_info": {
   "codemirror_mode": {
    "name": "ipython",
    "version": 3
   },
   "file_extension": ".py",
   "mimetype": "text/x-python",
   "name": "python",
   "nbconvert_exporter": "python",
   "pygments_lexer": "ipython3",
   "version": "3.8.3"
  }
 },
 "nbformat": 4,
 "nbformat_minor": 4
}
